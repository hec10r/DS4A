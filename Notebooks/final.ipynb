{
 "cells": [
  {
   "cell_type": "code",
   "execution_count": 1,
   "metadata": {},
   "outputs": [],
   "source": [
    "import os\n",
    "import pandas as pd\n",
    "from sqlalchemy import create_engine\n",
    "import matplotlib.pyplot as plt\n",
    "import seaborn as sns\n",
    "import numpy as np"
   ]
  },
  {
   "cell_type": "code",
   "execution_count": 2,
   "metadata": {},
   "outputs": [],
   "source": [
    "host = os.environ.get('DB_HOST_DS4A')\n",
    "db_name = os.environ.get('DB_NAME_DATATHON')\n",
    "db_user = os.environ.get('DB_USER_DS4A')\n",
    "db_password = os.environ.get('DB_PASS_DS4A')"
   ]
  },
  {
   "cell_type": "code",
   "execution_count": 3,
   "metadata": {},
   "outputs": [],
   "source": [
    "connection_string = f'postgresql://{db_user}:{db_password}@{host}/{db_name}'\n",
    "engine = create_engine(connection_string)"
   ]
  },
  {
   "cell_type": "markdown",
   "metadata": {},
   "source": [
    "# Functions"
   ]
  },
  {
   "cell_type": "code",
   "execution_count": 4,
   "metadata": {},
   "outputs": [],
   "source": [
    "def count_barplot(df, col):\n",
    "    fig, ax = plt.subplots(figsize=(15,5))\n",
    "    ax = sns.countplot(x=col, data=df, order=np.sort(df[col].unique()))"
   ]
  },
  {
   "cell_type": "markdown",
   "metadata": {},
   "source": [
    "# Demographics"
   ]
  },
  {
   "cell_type": "code",
   "execution_count": 5,
   "metadata": {
    "scrolled": true
   },
   "outputs": [
    {
     "data": {
      "text/html": [
       "<div>\n",
       "<style scoped>\n",
       "    .dataframe tbody tr th:only-of-type {\n",
       "        vertical-align: middle;\n",
       "    }\n",
       "\n",
       "    .dataframe tbody tr th {\n",
       "        vertical-align: top;\n",
       "    }\n",
       "\n",
       "    .dataframe thead th {\n",
       "        text-align: right;\n",
       "    }\n",
       "</style>\n",
       "<table border=\"1\" class=\"dataframe\">\n",
       "  <thead>\n",
       "    <tr style=\"text-align: right;\">\n",
       "      <th></th>\n",
       "      <th>population</th>\n",
       "      <th>total_income</th>\n",
       "      <th>area_squarekm</th>\n",
       "      <th>under_5_years</th>\n",
       "      <th>5-9_years</th>\n",
       "      <th>10-14_years</th>\n",
       "      <th>15-19_years</th>\n",
       "      <th>20-24_years</th>\n",
       "      <th>25-29_years</th>\n",
       "      <th>30-34_years</th>\n",
       "      <th>...</th>\n",
       "      <th>less_than_10000</th>\n",
       "      <th>10000_to_14999</th>\n",
       "      <th>15000_to_24999</th>\n",
       "      <th>25000_to_34999</th>\n",
       "      <th>35000_to_49999</th>\n",
       "      <th>50000_to_74999</th>\n",
       "      <th>75000_to_99999</th>\n",
       "      <th>100000_to_149999</th>\n",
       "      <th>150000_to_199999</th>\n",
       "      <th>200000_or_more</th>\n",
       "    </tr>\n",
       "    <tr>\n",
       "      <th>borough</th>\n",
       "      <th></th>\n",
       "      <th></th>\n",
       "      <th></th>\n",
       "      <th></th>\n",
       "      <th></th>\n",
       "      <th></th>\n",
       "      <th></th>\n",
       "      <th></th>\n",
       "      <th></th>\n",
       "      <th></th>\n",
       "      <th></th>\n",
       "      <th></th>\n",
       "      <th></th>\n",
       "      <th></th>\n",
       "      <th></th>\n",
       "      <th></th>\n",
       "      <th></th>\n",
       "      <th></th>\n",
       "      <th></th>\n",
       "      <th></th>\n",
       "      <th></th>\n",
       "    </tr>\n",
       "  </thead>\n",
       "  <tbody>\n",
       "    <tr>\n",
       "      <th>Bronx</th>\n",
       "      <td>1372111</td>\n",
       "      <td>66794139347</td>\n",
       "      <td>87.5152</td>\n",
       "      <td>102995</td>\n",
       "      <td>98538</td>\n",
       "      <td>99048</td>\n",
       "      <td>114344</td>\n",
       "      <td>110579</td>\n",
       "      <td>103829</td>\n",
       "      <td>96315</td>\n",
       "      <td>...</td>\n",
       "      <td>75525</td>\n",
       "      <td>45782</td>\n",
       "      <td>68197</td>\n",
       "      <td>53967</td>\n",
       "      <td>63301</td>\n",
       "      <td>72104</td>\n",
       "      <td>42686</td>\n",
       "      <td>38418</td>\n",
       "      <td>11715</td>\n",
       "      <td>7980</td>\n",
       "    </tr>\n",
       "    <tr>\n",
       "      <th>Brooklyn</th>\n",
       "      <td>2503518</td>\n",
       "      <td>168500006492</td>\n",
       "      <td>159.6480</td>\n",
       "      <td>177058</td>\n",
       "      <td>159285</td>\n",
       "      <td>156494</td>\n",
       "      <td>170623</td>\n",
       "      <td>195733</td>\n",
       "      <td>222691</td>\n",
       "      <td>202703</td>\n",
       "      <td>...</td>\n",
       "      <td>105868</td>\n",
       "      <td>64435</td>\n",
       "      <td>105583</td>\n",
       "      <td>90596</td>\n",
       "      <td>116024</td>\n",
       "      <td>146853</td>\n",
       "      <td>98214</td>\n",
       "      <td>107195</td>\n",
       "      <td>45358</td>\n",
       "      <td>45069</td>\n",
       "    </tr>\n",
       "    <tr>\n",
       "      <th>Manhattan</th>\n",
       "      <td>1584024</td>\n",
       "      <td>198983103829</td>\n",
       "      <td>51.2727</td>\n",
       "      <td>76555</td>\n",
       "      <td>61321</td>\n",
       "      <td>58226</td>\n",
       "      <td>77441</td>\n",
       "      <td>141450</td>\n",
       "      <td>186552</td>\n",
       "      <td>154291</td>\n",
       "      <td>...</td>\n",
       "      <td>71440</td>\n",
       "      <td>39207</td>\n",
       "      <td>62636</td>\n",
       "      <td>51331</td>\n",
       "      <td>64489</td>\n",
       "      <td>94112</td>\n",
       "      <td>73515</td>\n",
       "      <td>99567</td>\n",
       "      <td>56607</td>\n",
       "      <td>132185</td>\n",
       "    </tr>\n",
       "    <tr>\n",
       "      <th>Queens</th>\n",
       "      <td>2230286</td>\n",
       "      <td>163702982674</td>\n",
       "      <td>231.4290</td>\n",
       "      <td>132453</td>\n",
       "      <td>123751</td>\n",
       "      <td>123397</td>\n",
       "      <td>139078</td>\n",
       "      <td>160848</td>\n",
       "      <td>184896</td>\n",
       "      <td>177176</td>\n",
       "      <td>...</td>\n",
       "      <td>55668</td>\n",
       "      <td>36527</td>\n",
       "      <td>79695</td>\n",
       "      <td>72079</td>\n",
       "      <td>99299</td>\n",
       "      <td>140095</td>\n",
       "      <td>101834</td>\n",
       "      <td>114328</td>\n",
       "      <td>47029</td>\n",
       "      <td>33343</td>\n",
       "    </tr>\n",
       "    <tr>\n",
       "      <th>Staten Island</th>\n",
       "      <td>468730</td>\n",
       "      <td>42324993228</td>\n",
       "      <td>149.0380</td>\n",
       "      <td>28339</td>\n",
       "      <td>30015</td>\n",
       "      <td>30797</td>\n",
       "      <td>32929</td>\n",
       "      <td>31458</td>\n",
       "      <td>29988</td>\n",
       "      <td>29859</td>\n",
       "      <td>...</td>\n",
       "      <td>11241</td>\n",
       "      <td>6381</td>\n",
       "      <td>13051</td>\n",
       "      <td>11721</td>\n",
       "      <td>15934</td>\n",
       "      <td>25193</td>\n",
       "      <td>22729</td>\n",
       "      <td>31191</td>\n",
       "      <td>15978</td>\n",
       "      <td>11660</td>\n",
       "    </tr>\n",
       "  </tbody>\n",
       "</table>\n",
       "<p>5 rows × 28 columns</p>\n",
       "</div>"
      ],
      "text/plain": [
       "               population  total_income  area_squarekm  under_5_years  \\\n",
       "borough                                                                 \n",
       "Bronx             1372111   66794139347        87.5152         102995   \n",
       "Brooklyn          2503518  168500006492       159.6480         177058   \n",
       "Manhattan         1584024  198983103829        51.2727          76555   \n",
       "Queens            2230286  163702982674       231.4290         132453   \n",
       "Staten Island      468730   42324993228       149.0380          28339   \n",
       "\n",
       "               5-9_years  10-14_years  15-19_years  20-24_years  25-29_years  \\\n",
       "borough                                                                        \n",
       "Bronx              98538        99048       114344       110579       103829   \n",
       "Brooklyn          159285       156494       170623       195733       222691   \n",
       "Manhattan          61321        58226        77441       141450       186552   \n",
       "Queens            123751       123397       139078       160848       184896   \n",
       "Staten Island      30015        30797        32929        31458        29988   \n",
       "\n",
       "               30-34_years  ...  less_than_10000  10000_to_14999  \\\n",
       "borough                     ...                                    \n",
       "Bronx                96315  ...            75525           45782   \n",
       "Brooklyn            202703  ...           105868           64435   \n",
       "Manhattan           154291  ...            71440           39207   \n",
       "Queens              177176  ...            55668           36527   \n",
       "Staten Island        29859  ...            11241            6381   \n",
       "\n",
       "               15000_to_24999  25000_to_34999  35000_to_49999  50000_to_74999  \\\n",
       "borough                                                                         \n",
       "Bronx                   68197           53967           63301           72104   \n",
       "Brooklyn               105583           90596          116024          146853   \n",
       "Manhattan               62636           51331           64489           94112   \n",
       "Queens                  79695           72079           99299          140095   \n",
       "Staten Island           13051           11721           15934           25193   \n",
       "\n",
       "               75000_to_99999  100000_to_149999  150000_to_199999  \\\n",
       "borough                                                             \n",
       "Bronx                   42686             38418             11715   \n",
       "Brooklyn                98214            107195             45358   \n",
       "Manhattan               73515             99567             56607   \n",
       "Queens                 101834            114328             47029   \n",
       "Staten Island           22729             31191             15978   \n",
       "\n",
       "               200000_or_more  \n",
       "borough                        \n",
       "Bronx                    7980  \n",
       "Brooklyn                45069  \n",
       "Manhattan              132185  \n",
       "Queens                  33343  \n",
       "Staten Island           11660  \n",
       "\n",
       "[5 rows x 28 columns]"
      ]
     },
     "execution_count": 5,
     "metadata": {},
     "output_type": "execute_result"
    }
   ],
   "source": [
    "demographics = pd.read_sql('select * from demographics', \n",
    "                           engine.connect(), \n",
    "                           index_col='borough')\n",
    "\n",
    "demographics.drop('id', axis=1, inplace=True)\n",
    "demographics.head()"
   ]
  },
  {
   "cell_type": "markdown",
   "metadata": {},
   "source": [
    "# Uber "
   ]
  },
  {
   "cell_type": "code",
   "execution_count": 6,
   "metadata": {},
   "outputs": [
    {
     "data": {
      "text/html": [
       "<div>\n",
       "<style scoped>\n",
       "    .dataframe tbody tr th:only-of-type {\n",
       "        vertical-align: middle;\n",
       "    }\n",
       "\n",
       "    .dataframe tbody tr th {\n",
       "        vertical-align: top;\n",
       "    }\n",
       "\n",
       "    .dataframe thead th {\n",
       "        text-align: right;\n",
       "    }\n",
       "</style>\n",
       "<table border=\"1\" class=\"dataframe\">\n",
       "  <thead>\n",
       "    <tr style=\"text-align: right;\">\n",
       "      <th></th>\n",
       "      <th>affiliate_base</th>\n",
       "      <th>borough</th>\n",
       "      <th>month_year</th>\n",
       "      <th>pickup_hour</th>\n",
       "      <th>pickup_weekday</th>\n",
       "    </tr>\n",
       "    <tr>\n",
       "      <th>pickup_datetime</th>\n",
       "      <th></th>\n",
       "      <th></th>\n",
       "      <th></th>\n",
       "      <th></th>\n",
       "      <th></th>\n",
       "    </tr>\n",
       "  </thead>\n",
       "  <tbody>\n",
       "    <tr>\n",
       "      <th>2015-02-04 17:13:21</th>\n",
       "      <td>B02682</td>\n",
       "      <td>Manhattan</td>\n",
       "      <td>2015-02</td>\n",
       "      <td>17</td>\n",
       "      <td>2</td>\n",
       "    </tr>\n",
       "    <tr>\n",
       "      <th>2015-02-04 17:23:03</th>\n",
       "      <td>B02306</td>\n",
       "      <td>Manhattan</td>\n",
       "      <td>2015-02</td>\n",
       "      <td>17</td>\n",
       "      <td>2</td>\n",
       "    </tr>\n",
       "    <tr>\n",
       "      <th>2015-02-04 19:36:23</th>\n",
       "      <td>B02682</td>\n",
       "      <td>Manhattan</td>\n",
       "      <td>2015-02</td>\n",
       "      <td>19</td>\n",
       "      <td>2</td>\n",
       "    </tr>\n",
       "    <tr>\n",
       "      <th>2015-02-04 09:30:15</th>\n",
       "      <td>B02682</td>\n",
       "      <td>Manhattan</td>\n",
       "      <td>2015-02</td>\n",
       "      <td>9</td>\n",
       "      <td>2</td>\n",
       "    </tr>\n",
       "    <tr>\n",
       "      <th>2015-02-04 20:11:09</th>\n",
       "      <td>B02682</td>\n",
       "      <td>Manhattan</td>\n",
       "      <td>2015-02</td>\n",
       "      <td>20</td>\n",
       "      <td>2</td>\n",
       "    </tr>\n",
       "  </tbody>\n",
       "</table>\n",
       "</div>"
      ],
      "text/plain": [
       "                    affiliate_base    borough month_year  pickup_hour  \\\n",
       "pickup_datetime                                                         \n",
       "2015-02-04 17:13:21         B02682  Manhattan    2015-02           17   \n",
       "2015-02-04 17:23:03         B02306  Manhattan    2015-02           17   \n",
       "2015-02-04 19:36:23         B02682  Manhattan    2015-02           19   \n",
       "2015-02-04 09:30:15         B02682  Manhattan    2015-02            9   \n",
       "2015-02-04 20:11:09         B02682  Manhattan    2015-02           20   \n",
       "\n",
       "                     pickup_weekday  \n",
       "pickup_datetime                      \n",
       "2015-02-04 17:13:21               2  \n",
       "2015-02-04 17:23:03               2  \n",
       "2015-02-04 19:36:23               2  \n",
       "2015-02-04 09:30:15               2  \n",
       "2015-02-04 20:11:09               2  "
      ]
     },
     "execution_count": 6,
     "metadata": {},
     "output_type": "execute_result"
    }
   ],
   "source": [
    "uber = pd.read_sql('uber_trips',\n",
    "                   engine.connect(),\n",
    "                   parse_dates='pickup_datetime',\n",
    "                   columns=['pickup_datetime', 'affiliate_base', 'borough'])\n",
    "\n",
    "\n",
    "uber['pickup_datetime'] = pd.to_datetime(uber['pickup_datetime'])\n",
    "uber['month_year'] = pd.to_datetime(uber['pickup_datetime']).dt.to_period('M')\n",
    "uber['pickup_hour'] = uber['pickup_datetime'].dt.hour\n",
    "uber['pickup_weekday'] = uber['pickup_datetime'].dt.weekday\n",
    "uber.set_index('pickup_datetime', inplace=True)\n",
    "\n",
    "uber.head()"
   ]
  },
  {
   "cell_type": "code",
   "execution_count": 7,
   "metadata": {},
   "outputs": [
    {
     "data": {
      "text/html": [
       "<div>\n",
       "<style scoped>\n",
       "    .dataframe tbody tr th:only-of-type {\n",
       "        vertical-align: middle;\n",
       "    }\n",
       "\n",
       "    .dataframe tbody tr th {\n",
       "        vertical-align: top;\n",
       "    }\n",
       "\n",
       "    .dataframe thead th {\n",
       "        text-align: right;\n",
       "    }\n",
       "</style>\n",
       "<table border=\"1\" class=\"dataframe\">\n",
       "  <thead>\n",
       "    <tr style=\"text-align: right;\">\n",
       "      <th></th>\n",
       "      <th>affiliate_base</th>\n",
       "      <th>borough</th>\n",
       "      <th>month_year</th>\n",
       "      <th>pickup_hour</th>\n",
       "      <th>pickup_weekday</th>\n",
       "    </tr>\n",
       "    <tr>\n",
       "      <th>pickup_datetime</th>\n",
       "      <th></th>\n",
       "      <th></th>\n",
       "      <th></th>\n",
       "      <th></th>\n",
       "      <th></th>\n",
       "    </tr>\n",
       "  </thead>\n",
       "  <tbody>\n",
       "    <tr>\n",
       "      <th>2015-02-04 17:13:21</th>\n",
       "      <td>B02682</td>\n",
       "      <td>Manhattan</td>\n",
       "      <td>2015-02</td>\n",
       "      <td>17</td>\n",
       "      <td>2</td>\n",
       "    </tr>\n",
       "    <tr>\n",
       "      <th>2015-02-04 17:23:03</th>\n",
       "      <td>B02306</td>\n",
       "      <td>Manhattan</td>\n",
       "      <td>2015-02</td>\n",
       "      <td>17</td>\n",
       "      <td>2</td>\n",
       "    </tr>\n",
       "    <tr>\n",
       "      <th>2015-02-04 19:36:23</th>\n",
       "      <td>B02682</td>\n",
       "      <td>Manhattan</td>\n",
       "      <td>2015-02</td>\n",
       "      <td>19</td>\n",
       "      <td>2</td>\n",
       "    </tr>\n",
       "    <tr>\n",
       "      <th>2015-02-04 09:30:15</th>\n",
       "      <td>B02682</td>\n",
       "      <td>Manhattan</td>\n",
       "      <td>2015-02</td>\n",
       "      <td>9</td>\n",
       "      <td>2</td>\n",
       "    </tr>\n",
       "    <tr>\n",
       "      <th>2015-02-04 20:11:09</th>\n",
       "      <td>B02682</td>\n",
       "      <td>Manhattan</td>\n",
       "      <td>2015-02</td>\n",
       "      <td>20</td>\n",
       "      <td>2</td>\n",
       "    </tr>\n",
       "  </tbody>\n",
       "</table>\n",
       "</div>"
      ],
      "text/plain": [
       "                    affiliate_base    borough month_year  pickup_hour  \\\n",
       "pickup_datetime                                                         \n",
       "2015-02-04 17:13:21         B02682  Manhattan    2015-02           17   \n",
       "2015-02-04 17:23:03         B02306  Manhattan    2015-02           17   \n",
       "2015-02-04 19:36:23         B02682  Manhattan    2015-02           19   \n",
       "2015-02-04 09:30:15         B02682  Manhattan    2015-02            9   \n",
       "2015-02-04 20:11:09         B02682  Manhattan    2015-02           20   \n",
       "\n",
       "                     pickup_weekday  \n",
       "pickup_datetime                      \n",
       "2015-02-04 17:13:21               2  \n",
       "2015-02-04 17:23:03               2  \n",
       "2015-02-04 19:36:23               2  \n",
       "2015-02-04 09:30:15               2  \n",
       "2015-02-04 20:11:09               2  "
      ]
     },
     "execution_count": 7,
     "metadata": {},
     "output_type": "execute_result"
    }
   ],
   "source": [
    "uber.head()"
   ]
  },
  {
   "cell_type": "code",
   "execution_count": 8,
   "metadata": {},
   "outputs": [
    {
     "name": "stdout",
     "output_type": "stream",
     "text": [
      "There are 122432 trips that does not belong to any borough. That is the 0.65%. We will ignore them.\n"
     ]
    }
   ],
   "source": [
    "bad_trips = uber[uber['borough'] == 'Does not belong to any borough'].shape[0]\n",
    "bad_trips_pct = bad_trips / uber.shape[0]\n",
    "uber = uber[uber['borough'] != 'Does not belong to any borough']\n",
    "\n",
    "\n",
    "print(f'There are {bad_trips} trips that does not belong to any borough. That is the {100* bad_trips_pct:.2f}%. \\\n",
    "We will ignore them.')"
   ]
  },
  {
   "cell_type": "markdown",
   "metadata": {},
   "source": [
    "We are ignoring all the trips that began outside of NY (for example, from New Jersey)"
   ]
  },
  {
   "cell_type": "markdown",
   "metadata": {},
   "source": [
    "## Trips by month"
   ]
  },
  {
   "cell_type": "code",
   "execution_count": 9,
   "metadata": {},
   "outputs": [
    {
     "data": {
      "text/html": [
       "<div>\n",
       "<style scoped>\n",
       "    .dataframe tbody tr th:only-of-type {\n",
       "        vertical-align: middle;\n",
       "    }\n",
       "\n",
       "    .dataframe tbody tr th {\n",
       "        vertical-align: top;\n",
       "    }\n",
       "\n",
       "    .dataframe thead th {\n",
       "        text-align: right;\n",
       "    }\n",
       "</style>\n",
       "<table border=\"1\" class=\"dataframe\">\n",
       "  <thead>\n",
       "    <tr style=\"text-align: right;\">\n",
       "      <th></th>\n",
       "      <th>affiliate_base</th>\n",
       "      <th>borough</th>\n",
       "      <th>pickup_hour</th>\n",
       "      <th>pickup_weekday</th>\n",
       "    </tr>\n",
       "    <tr>\n",
       "      <th>month_year</th>\n",
       "      <th></th>\n",
       "      <th></th>\n",
       "      <th></th>\n",
       "      <th></th>\n",
       "    </tr>\n",
       "  </thead>\n",
       "  <tbody>\n",
       "    <tr>\n",
       "      <th>2014-04</th>\n",
       "      <td>551259</td>\n",
       "      <td>551259</td>\n",
       "      <td>551259</td>\n",
       "      <td>551259</td>\n",
       "    </tr>\n",
       "    <tr>\n",
       "      <th>2014-05</th>\n",
       "      <td>636696</td>\n",
       "      <td>636696</td>\n",
       "      <td>636696</td>\n",
       "      <td>636696</td>\n",
       "    </tr>\n",
       "    <tr>\n",
       "      <th>2014-06</th>\n",
       "      <td>646174</td>\n",
       "      <td>646174</td>\n",
       "      <td>646174</td>\n",
       "      <td>646174</td>\n",
       "    </tr>\n",
       "    <tr>\n",
       "      <th>2014-07</th>\n",
       "      <td>774931</td>\n",
       "      <td>774931</td>\n",
       "      <td>774931</td>\n",
       "      <td>774931</td>\n",
       "    </tr>\n",
       "    <tr>\n",
       "      <th>2014-08</th>\n",
       "      <td>803730</td>\n",
       "      <td>803730</td>\n",
       "      <td>803730</td>\n",
       "      <td>803730</td>\n",
       "    </tr>\n",
       "    <tr>\n",
       "      <th>2014-09</th>\n",
       "      <td>999105</td>\n",
       "      <td>999105</td>\n",
       "      <td>999105</td>\n",
       "      <td>999105</td>\n",
       "    </tr>\n",
       "    <tr>\n",
       "      <th>2015-01</th>\n",
       "      <td>1873186</td>\n",
       "      <td>1953049</td>\n",
       "      <td>1953801</td>\n",
       "      <td>1953801</td>\n",
       "    </tr>\n",
       "    <tr>\n",
       "      <th>2015-02</th>\n",
       "      <td>2182040</td>\n",
       "      <td>2262719</td>\n",
       "      <td>2263620</td>\n",
       "      <td>2263620</td>\n",
       "    </tr>\n",
       "    <tr>\n",
       "      <th>2015-03</th>\n",
       "      <td>2259773</td>\n",
       "      <td>2258833</td>\n",
       "      <td>2259773</td>\n",
       "      <td>2259773</td>\n",
       "    </tr>\n",
       "    <tr>\n",
       "      <th>2015-04</th>\n",
       "      <td>2280837</td>\n",
       "      <td>2279920</td>\n",
       "      <td>2280837</td>\n",
       "      <td>2280837</td>\n",
       "    </tr>\n",
       "    <tr>\n",
       "      <th>2015-05</th>\n",
       "      <td>2695553</td>\n",
       "      <td>2694275</td>\n",
       "      <td>2695553</td>\n",
       "      <td>2695553</td>\n",
       "    </tr>\n",
       "    <tr>\n",
       "      <th>2015-06</th>\n",
       "      <td>2816895</td>\n",
       "      <td>2815419</td>\n",
       "      <td>2816895</td>\n",
       "      <td>2816895</td>\n",
       "    </tr>\n",
       "  </tbody>\n",
       "</table>\n",
       "</div>"
      ],
      "text/plain": [
       "            affiliate_base  borough  pickup_hour  pickup_weekday\n",
       "month_year                                                      \n",
       "2014-04             551259   551259       551259          551259\n",
       "2014-05             636696   636696       636696          636696\n",
       "2014-06             646174   646174       646174          646174\n",
       "2014-07             774931   774931       774931          774931\n",
       "2014-08             803730   803730       803730          803730\n",
       "2014-09             999105   999105       999105          999105\n",
       "2015-01            1873186  1953049      1953801         1953801\n",
       "2015-02            2182040  2262719      2263620         2263620\n",
       "2015-03            2259773  2258833      2259773         2259773\n",
       "2015-04            2280837  2279920      2280837         2280837\n",
       "2015-05            2695553  2694275      2695553         2695553\n",
       "2015-06            2816895  2815419      2816895         2816895"
      ]
     },
     "execution_count": 9,
     "metadata": {},
     "output_type": "execute_result"
    }
   ],
   "source": [
    "uber.groupby('month_year').count()"
   ]
  },
  {
   "cell_type": "code",
   "execution_count": 10,
   "metadata": {},
   "outputs": [
    {
     "data": {
      "image/png": "[encoded data removed]",
      "text/plain": [
       "<Figure size 1080x360 with 1 Axes>"
      ]
     },
     "metadata": {
      "needs_background": "light"
     },
     "output_type": "display_data"
    }
   ],
   "source": [
    "count_barplot(uber, 'month_year')"
   ]
  },
  {
   "cell_type": "markdown",
   "metadata": {},
   "source": [
    "### By borough and month"
   ]
  },
  {
   "cell_type": "code",
   "execution_count": 19,
   "metadata": {},
   "outputs": [],
   "source": [
    "uber_bor_m = pd.DataFrame(uber.groupby(['borough', 'month_year']).count()['affiliate_base'])\n",
    "uber_bor_m.rename(columns={'affiliate_base': 'num_trips'}, inplace=True)\n",
    "uber_bor_m.reset_index(inplace=True)"
   ]
  },
  {
   "cell_type": "code",
   "execution_count": 20,
   "metadata": {},
   "outputs": [
    {
     "data": {
      "image/png": "[encoded data removed]",
      "text/plain": [
       "<Figure size 1080x360 with 1 Axes>"
      ]
     },
     "metadata": {
      "needs_background": "light"
     },
     "output_type": "display_data"
    },
    {
     "data": {
      "image/png": "[encoded data removed]",
      "text/plain": [
       "<Figure size 1080x360 with 1 Axes>"
      ]
     },
     "metadata": {
      "needs_background": "light"
     },
     "output_type": "display_data"
    },
    {
     "data": {
      "image/png": "[encoded data removed]",
      "text/plain": [
       "<Figure size 1080x360 with 1 Axes>"
      ]
     },
     "metadata": {
      "needs_background": "light"
     },
     "output_type": "display_data"
    },
    {
     "data": {
      "image/png": "[encoded data removed]",
      "text/plain": [
       "<Figure size 1080x360 with 1 Axes>"
      ]
     },
     "metadata": {
      "needs_background": "light"
     },
     "output_type": "display_data"
    },
    {
     "data": {
      "image/png": "[encoded data removed]",
      "text/plain": [
       "<Figure size 1080x360 with 1 Axes>"
      ]
     },
     "metadata": {
      "needs_background": "light"
     },
     "output_type": "display_data"
    }
   ],
   "source": [
    "for bor in demographics.index:\n",
    "    fig, ax = plt.subplots(sharey=True, figsize=(15,5), )\n",
    "    sns.barplot(x='month_year', y='num_trips', data=uber_bor_m[uber_bor_m['borough'] == bor], ax = ax)\n",
    "    plt.title(f'Number of trips per borough and month: {bor}')"
   ]
  },
  {
   "cell_type": "markdown",
   "metadata": {},
   "source": [
    "## Trips by week day"
   ]
  },
  {
   "cell_type": "code",
   "execution_count": 11,
   "metadata": {},
   "outputs": [
    {
     "data": {
      "image/png": "[encoded data removed]",
      "text/plain": [
       "<Figure size 1080x360 with 1 Axes>"
      ]
     },
     "metadata": {
      "needs_background": "light"
     },
     "output_type": "display_data"
    }
   ],
   "source": [
    "count_barplot(uber, 'pickup_weekday')"
   ]
  },
  {
   "cell_type": "markdown",
   "metadata": {},
   "source": [
    "### By borough and week day"
   ]
  },
  {
   "cell_type": "code",
   "execution_count": 21,
   "metadata": {},
   "outputs": [],
   "source": [
    "uber_bor_wd = pd.DataFrame(uber.groupby(['borough', 'month_year']).count()['affiliate_base'])\n",
    "uber_bor_wd.rename(columns={'affiliate_base': 'num_trips'}, inplace=True)\n",
    "uber_bor_wd.reset_index(inplace=True)"
   ]
  },
  {
   "cell_type": "code",
   "execution_count": 22,
   "metadata": {},
   "outputs": [
    {
     "data": {
      "image/png": "[encoded data removed]",
      "text/plain": [
       "<Figure size 1080x360 with 1 Axes>"
      ]
     },
     "metadata": {
      "needs_background": "light"
     },
     "output_type": "display_data"
    },
    {
     "data": {
      "image/png": "[encoded data removed]",
      "text/plain": [
       "<Figure size 1080x360 with 1 Axes>"
      ]
     },
     "metadata": {
      "needs_background": "light"
     },
     "output_type": "display_data"
    },
    {
     "data": {
      "image/png": "[encoded data removed]",
      "text/plain": [
       "<Figure size 1080x360 with 1 Axes>"
      ]
     },
     "metadata": {
      "needs_background": "light"
     },
     "output_type": "display_data"
    },
    {
     "data": {
      "image/png": "[encoded data removed]",
      "text/plain": [
       "<Figure size 1080x360 with 1 Axes>"
      ]
     },
     "metadata": {
      "needs_background": "light"
     },
     "output_type": "display_data"
    },
    {
     "data": {
      "image/png": "[encoded data removed]",
      "text/plain": [
       "<Figure size 1080x360 with 1 Axes>"
      ]
     },
     "metadata": {
      "needs_background": "light"
     },
     "output_type": "display_data"
    }
   ],
   "source": [
    "for bor in demographics.index:\n",
    "    fig, ax = plt.subplots(sharey=True, figsize=(15,5), )\n",
    "    sns.barplot(x='month_year', y='num_trips', data=uber_bor_wd[uber_bor_wd['borough'] == bor], ax = ax)\n",
    "    plt.title(f'Number of trips per borough and week day: {bor}')"
   ]
  },
  {
   "cell_type": "markdown",
   "metadata": {},
   "source": [
    "## By borough"
   ]
  },
  {
   "cell_type": "code",
   "execution_count": 12,
   "metadata": {},
   "outputs": [],
   "source": [
    "uber_bor = pd.DataFrame(uber.groupby('borough').count()['month_year'])\n",
    "uber_bor.rename(columns={'month_year': 'num_trips'}, inplace=True)\n",
    "# uber_bor.reset_index(inplace=True)"
   ]
  },
  {
   "cell_type": "code",
   "execution_count": 13,
   "metadata": {},
   "outputs": [
    {
     "data": {
      "text/html": [
       "<div>\n",
       "<style scoped>\n",
       "    .dataframe tbody tr th:only-of-type {\n",
       "        vertical-align: middle;\n",
       "    }\n",
       "\n",
       "    .dataframe tbody tr th {\n",
       "        vertical-align: top;\n",
       "    }\n",
       "\n",
       "    .dataframe thead th {\n",
       "        text-align: right;\n",
       "    }\n",
       "</style>\n",
       "<table border=\"1\" class=\"dataframe\">\n",
       "  <thead>\n",
       "    <tr style=\"text-align: right;\">\n",
       "      <th></th>\n",
       "      <th>num_trips</th>\n",
       "    </tr>\n",
       "    <tr>\n",
       "      <th>borough</th>\n",
       "      <th></th>\n",
       "    </tr>\n",
       "  </thead>\n",
       "  <tbody>\n",
       "    <tr>\n",
       "      <th>Bronx</th>\n",
       "      <td>251730</td>\n",
       "    </tr>\n",
       "    <tr>\n",
       "      <th>Brooklyn</th>\n",
       "      <td>2915594</td>\n",
       "    </tr>\n",
       "    <tr>\n",
       "      <th>EWR</th>\n",
       "      <td>105</td>\n",
       "    </tr>\n",
       "    <tr>\n",
       "      <th>Manhattan</th>\n",
       "      <td>13814518</td>\n",
       "    </tr>\n",
       "    <tr>\n",
       "      <th>Queens</th>\n",
       "      <td>1686170</td>\n",
       "    </tr>\n",
       "  </tbody>\n",
       "</table>\n",
       "</div>"
      ],
      "text/plain": [
       "           num_trips\n",
       "borough             \n",
       "Bronx         251730\n",
       "Brooklyn     2915594\n",
       "EWR              105\n",
       "Manhattan   13814518\n",
       "Queens       1686170"
      ]
     },
     "execution_count": 13,
     "metadata": {},
     "output_type": "execute_result"
    }
   ],
   "source": [
    "uber_bor.head()"
   ]
  },
  {
   "cell_type": "markdown",
   "metadata": {},
   "source": [
    "As expected, Manhattan is by far the borough with most trips per person"
   ]
  },
  {
   "cell_type": "code",
   "execution_count": 14,
   "metadata": {},
   "outputs": [
    {
     "data": {
      "text/plain": [
       "<matplotlib.axes._subplots.AxesSubplot at 0x138cc650288>"
      ]
     },
     "execution_count": 14,
     "metadata": {},
     "output_type": "execute_result"
    },
    {
     "data": {
      "image/png": "[encoded data removed]",
      "text/plain": [
       "<Figure size 1080x360 with 1 Axes>"
      ]
     },
     "metadata": {
      "needs_background": "light"
     },
     "output_type": "display_data"
    }
   ],
   "source": [
    "df = uber_bor.join(demographics, how='inner')[['num_trips', 'population']]\n",
    "df['trips_per_person'] = df['num_trips']/ df['population']\n",
    "df['trips_per_person'].plot.bar(figsize=(15,5))"
   ]
  },
  {
   "cell_type": "markdown",
   "metadata": {},
   "source": [
    "# Taxi"
   ]
  },
  {
   "cell_type": "code",
   "execution_count": 23,
   "metadata": {},
   "outputs": [
    {
     "data": {
      "text/html": [
       "<div>\n",
       "<style scoped>\n",
       "    .dataframe tbody tr th:only-of-type {\n",
       "        vertical-align: middle;\n",
       "    }\n",
       "\n",
       "    .dataframe tbody tr th {\n",
       "        vertical-align: top;\n",
       "    }\n",
       "\n",
       "    .dataframe thead th {\n",
       "        text-align: right;\n",
       "    }\n",
       "</style>\n",
       "<table border=\"1\" class=\"dataframe\">\n",
       "  <thead>\n",
       "    <tr style=\"text-align: right;\">\n",
       "      <th></th>\n",
       "      <th>borough</th>\n",
       "      <th>type</th>\n",
       "      <th>month_year</th>\n",
       "      <th>pickup_hour</th>\n",
       "      <th>pickup_weekday</th>\n",
       "    </tr>\n",
       "    <tr>\n",
       "      <th>pickup_datetime</th>\n",
       "      <th></th>\n",
       "      <th></th>\n",
       "      <th></th>\n",
       "      <th></th>\n",
       "      <th></th>\n",
       "    </tr>\n",
       "  </thead>\n",
       "  <tbody>\n",
       "    <tr>\n",
       "      <th>2014-04-04 08:22:40</th>\n",
       "      <td>Brooklyn</td>\n",
       "      <td>Y</td>\n",
       "      <td>2014-04</td>\n",
       "      <td>8</td>\n",
       "      <td>4</td>\n",
       "    </tr>\n",
       "    <tr>\n",
       "      <th>2014-06-21 19:02:00</th>\n",
       "      <td>Manhattan</td>\n",
       "      <td>Y</td>\n",
       "      <td>2014-06</td>\n",
       "      <td>19</td>\n",
       "      <td>5</td>\n",
       "    </tr>\n",
       "    <tr>\n",
       "      <th>2014-06-04 20:49:50</th>\n",
       "      <td>Manhattan</td>\n",
       "      <td>Y</td>\n",
       "      <td>2014-06</td>\n",
       "      <td>20</td>\n",
       "      <td>2</td>\n",
       "    </tr>\n",
       "    <tr>\n",
       "      <th>2014-05-16 14:20:49</th>\n",
       "      <td>Manhattan</td>\n",
       "      <td>Y</td>\n",
       "      <td>2014-05</td>\n",
       "      <td>14</td>\n",
       "      <td>4</td>\n",
       "    </tr>\n",
       "    <tr>\n",
       "      <th>2014-04-27 13:55:20</th>\n",
       "      <td>Manhattan</td>\n",
       "      <td>Y</td>\n",
       "      <td>2014-04</td>\n",
       "      <td>13</td>\n",
       "      <td>6</td>\n",
       "    </tr>\n",
       "  </tbody>\n",
       "</table>\n",
       "</div>"
      ],
      "text/plain": [
       "                       borough type month_year  pickup_hour  pickup_weekday\n",
       "pickup_datetime                                                            \n",
       "2014-04-04 08:22:40   Brooklyn    Y    2014-04            8               4\n",
       "2014-06-21 19:02:00  Manhattan    Y    2014-06           19               5\n",
       "2014-06-04 20:49:50  Manhattan    Y    2014-06           20               2\n",
       "2014-05-16 14:20:49  Manhattan    Y    2014-05           14               4\n",
       "2014-04-27 13:55:20  Manhattan    Y    2014-04           13               6"
      ]
     },
     "execution_count": 23,
     "metadata": {},
     "output_type": "execute_result"
    }
   ],
   "source": [
    "taxi = pd.read_sql('taxi_trips',\n",
    "                   engine.connect(),\n",
    "                   parse_dates='pickup_datetime',\n",
    "                   columns=['pickup_datetime', 'borough', 'type'])\n",
    "\n",
    "taxi['pickup_datetime'] = pd.to_datetime(taxi['pickup_datetime'])\n",
    "taxi['month_year'] = pd.to_datetime(taxi['pickup_datetime']).dt.to_period('M')\n",
    "taxi['pickup_hour'] = taxi['pickup_datetime'].dt.hour\n",
    "taxi['pickup_weekday'] = taxi['pickup_datetime'].dt.weekday\n",
    "taxi.set_index('pickup_datetime', inplace=True)\n",
    "\n",
    "taxi.head()"
   ]
  },
  {
   "cell_type": "code",
   "execution_count": 24,
   "metadata": {},
   "outputs": [
    {
     "data": {
      "text/html": [
       "<div>\n",
       "<style scoped>\n",
       "    .dataframe tbody tr th:only-of-type {\n",
       "        vertical-align: middle;\n",
       "    }\n",
       "\n",
       "    .dataframe tbody tr th {\n",
       "        vertical-align: top;\n",
       "    }\n",
       "\n",
       "    .dataframe thead th {\n",
       "        text-align: right;\n",
       "    }\n",
       "</style>\n",
       "<table border=\"1\" class=\"dataframe\">\n",
       "  <thead>\n",
       "    <tr style=\"text-align: right;\">\n",
       "      <th></th>\n",
       "      <th>borough</th>\n",
       "      <th>type</th>\n",
       "      <th>month_year</th>\n",
       "      <th>pickup_hour</th>\n",
       "      <th>pickup_weekday</th>\n",
       "    </tr>\n",
       "    <tr>\n",
       "      <th>pickup_datetime</th>\n",
       "      <th></th>\n",
       "      <th></th>\n",
       "      <th></th>\n",
       "      <th></th>\n",
       "      <th></th>\n",
       "    </tr>\n",
       "  </thead>\n",
       "  <tbody>\n",
       "    <tr>\n",
       "      <th>2014-04-04 08:22:40</th>\n",
       "      <td>Brooklyn</td>\n",
       "      <td>Y</td>\n",
       "      <td>2014-04</td>\n",
       "      <td>8</td>\n",
       "      <td>4</td>\n",
       "    </tr>\n",
       "    <tr>\n",
       "      <th>2014-06-21 19:02:00</th>\n",
       "      <td>Manhattan</td>\n",
       "      <td>Y</td>\n",
       "      <td>2014-06</td>\n",
       "      <td>19</td>\n",
       "      <td>5</td>\n",
       "    </tr>\n",
       "    <tr>\n",
       "      <th>2014-06-04 20:49:50</th>\n",
       "      <td>Manhattan</td>\n",
       "      <td>Y</td>\n",
       "      <td>2014-06</td>\n",
       "      <td>20</td>\n",
       "      <td>2</td>\n",
       "    </tr>\n",
       "    <tr>\n",
       "      <th>2014-05-16 14:20:49</th>\n",
       "      <td>Manhattan</td>\n",
       "      <td>Y</td>\n",
       "      <td>2014-05</td>\n",
       "      <td>14</td>\n",
       "      <td>4</td>\n",
       "    </tr>\n",
       "    <tr>\n",
       "      <th>2014-04-27 13:55:20</th>\n",
       "      <td>Manhattan</td>\n",
       "      <td>Y</td>\n",
       "      <td>2014-04</td>\n",
       "      <td>13</td>\n",
       "      <td>6</td>\n",
       "    </tr>\n",
       "  </tbody>\n",
       "</table>\n",
       "</div>"
      ],
      "text/plain": [
       "                       borough type month_year  pickup_hour  pickup_weekday\n",
       "pickup_datetime                                                            \n",
       "2014-04-04 08:22:40   Brooklyn    Y    2014-04            8               4\n",
       "2014-06-21 19:02:00  Manhattan    Y    2014-06           19               5\n",
       "2014-06-04 20:49:50  Manhattan    Y    2014-06           20               2\n",
       "2014-05-16 14:20:49  Manhattan    Y    2014-05           14               4\n",
       "2014-04-27 13:55:20  Manhattan    Y    2014-04           13               6"
      ]
     },
     "execution_count": 24,
     "metadata": {},
     "output_type": "execute_result"
    }
   ],
   "source": [
    "taxi.head()"
   ]
  },
  {
   "cell_type": "code",
   "execution_count": 25,
   "metadata": {},
   "outputs": [
    {
     "name": "stdout",
     "output_type": "stream",
     "text": [
      "There are 182439 trips that does not belong to any borough. That is the 1.58%. We will ignore them.\n"
     ]
    }
   ],
   "source": [
    "bad_trips = taxi[taxi['borough'] == 'Does not belong to any borough'].shape[0]\n",
    "bad_trips_pct = bad_trips / taxi.shape[0]\n",
    "taxi = taxi[taxi['borough'] != 'Does not belong to any borough']\n",
    "\n",
    "\n",
    "print(f'There are {bad_trips} trips that does not belong to any borough. That is the {100* bad_trips_pct:.2f}%. \\\n",
    "We will ignore them.')"
   ]
  },
  {
   "cell_type": "code",
   "execution_count": null,
   "metadata": {},
   "outputs": [],
   "source": []
  }
 ],
 "metadata": {
  "kernelspec": {
   "display_name": "Python 3",
   "language": "python",
   "name": "python3"
  },
  "language_info": {
   "codemirror_mode": {
    "name": "ipython",
    "version": 3
   },
   "file_extension": ".py",
   "mimetype": "text/x-python",
   "name": "python",
   "nbconvert_exporter": "python",
   "pygments_lexer": "ipython3",
   "version": "3.7.4"
  }
 },
 "nbformat": 4,
 "nbformat_minor": 2
}
